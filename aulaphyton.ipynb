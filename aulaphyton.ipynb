{
  "nbformat": 4,
  "nbformat_minor": 0,
  "metadata": {
    "colab": {
      "provenance": [],
      "authorship_tag": "ABX9TyP1OdY4RUA07W2jvHfqGpC/",
      "include_colab_link": true
    },
    "kernelspec": {
      "name": "python3",
      "display_name": "Python 3"
    },
    "language_info": {
      "name": "python"
    }
  },
  "cells": [
    {
      "cell_type": "markdown",
      "metadata": {
        "id": "view-in-github",
        "colab_type": "text"
      },
      "source": [
        "<a href=\"https://colab.research.google.com/github/luanzin19/Aula-Java/blob/main/aulaphyton.ipynb\" target=\"_parent\"><img src=\"https://colab.research.google.com/assets/colab-badge.svg\" alt=\"Open In Colab\"/></a>"
      ]
    },
    {
      "cell_type": "code",
      "execution_count": null,
      "metadata": {
        "colab": {
          "base_uri": "https://localhost:8080/"
        },
        "id": "lWKh8KDikc56",
        "outputId": "dc92e0ba-dd85-4601-90cc-311f8d0ea38c"
      },
      "outputs": [
        {
          "output_type": "stream",
          "name": "stdout",
          "text": [
            "Meu nome é luan\n",
            "Minha idade é :  19\n"
          ]
        }
      ],
      "source": [
        "\n",
        "idade = 19\n",
        "\n",
        "print('Minha idade é : ' , idade)\n",
        "\n",
        "\n",
        "\n",
        "\n",
        "\n",
        "\n",
        "\n",
        "\n",
        "\n",
        "\n",
        "\n",
        "\n",
        "\n",
        "\n",
        "\n",
        "\n"
      ]
    },
    {
      "cell_type": "code",
      "source": [
        "Nome = input('Digite seu nome')\n",
        "\n",
        "print('baoas vindas, ' +Nome)\n",
        "\n",
        "\n"
      ],
      "metadata": {
        "colab": {
          "base_uri": "https://localhost:8080/"
        },
        "id": "-JFcCCx0lsZi",
        "outputId": "4f209ae7-50c7-4edf-c52e-832515f095fe"
      },
      "execution_count": null,
      "outputs": [
        {
          "output_type": "stream",
          "name": "stdout",
          "text": [
            "Digite seu nomeLuan Fonseca\n",
            "baoas vindas, Luan Fonseca\n"
          ]
        }
      ]
    },
    {
      "cell_type": "code",
      "source": [
        "#Idade\n",
        "ano = int(input('Digite seu ano de nascimento :'))\n",
        "print('Sua idade é :' ,2023-ano)\n",
        "\n",
        "\n",
        "\n",
        "\n",
        "\n",
        "\n",
        "\n",
        "\n",
        "\n",
        "\n",
        "\n",
        "\n"
      ],
      "metadata": {
        "colab": {
          "base_uri": "https://localhost:8080/"
        },
        "id": "gDWMg6hkmOaa",
        "outputId": "ff71eed0-ea5d-4c40-e051-9fc95290b6fc"
      },
      "execution_count": null,
      "outputs": [
        {
          "output_type": "stream",
          "name": "stdout",
          "text": [
            "Digite seu ano de nascimento :2003\n",
            "Sua idade é : 20\n"
          ]
        }
      ]
    },
    {
      "cell_type": "code",
      "source": [
        "#IMC\n",
        "\n",
        "peso = float(input('Digite seu peso : '))\n",
        "altura = float(input('Digite sua altura  : '))\n",
        "imc = peso/altura**2\n",
        "print('O seu IMC é :', round(imc,2) )\n"
      ],
      "metadata": {
        "colab": {
          "base_uri": "https://localhost:8080/"
        },
        "id": "j-H4KS1rpi7c",
        "outputId": "2403d434-9eab-4cc4-caaf-aaf362893a76"
      },
      "execution_count": null,
      "outputs": [
        {
          "output_type": "stream",
          "name": "stdout",
          "text": [
            "Digite seu peso : 55.66\n",
            "Digite sua altura  : 1.64\n",
            "O seu IMC é : 20.69\n"
          ]
        }
      ]
    },
    {
      "cell_type": "code",
      "source": [
        "#NumeroParOuImpar\n",
        "\n",
        "\n",
        "\n",
        "N1 = int(input('Digite o numero : '))\n",
        "if(N1%2 == 0): \n",
        " print('O numero é par')\n",
        "\n",
        "if(N1%2 == 1): \n",
        " print('O numero é impar')\n",
        "\n",
        "\n",
        "\n"
      ],
      "metadata": {
        "colab": {
          "base_uri": "https://localhost:8080/"
        },
        "id": "VNOiqrUpuSdU",
        "outputId": "3c3bcd23-c5df-4cd4-c87c-cdbb6fc325ef"
      },
      "execution_count": null,
      "outputs": [
        {
          "output_type": "stream",
          "name": "stdout",
          "text": [
            "Digite o numero : 66\n",
            "O numero é par\n"
          ]
        }
      ]
    },
    {
      "cell_type": "code",
      "source": [
        "#Campeonato de MMA\n",
        "#Galo até 70KG\n",
        "#Medio até 80KG\n",
        "#Meio até 90KG\n",
        "\n",
        "peso = int(input('Digite o peso : '))\n",
        "\n",
        "if(peso <= 70):\n",
        " print('A categoria do ateta é Galo ' )\n",
        "\n",
        "\n",
        "elif(peso <= 80):\n",
        " print('A categoria do ateta é Medio ' )\n",
        "\n",
        "\n",
        "else:\n",
        " print('A categoria do ateta é Meio pesado ' )\n",
        "\n"
      ],
      "metadata": {
        "colab": {
          "base_uri": "https://localhost:8080/"
        },
        "id": "eed2dsQHyWzN",
        "outputId": "91b2f906-bf5c-482a-efd7-920e4c6ab34a"
      },
      "execution_count": null,
      "outputs": [
        {
          "output_type": "stream",
          "name": "stdout",
          "text": [
            "Digite o peso : 89\n",
            "A categoria do ateta é Meio pesado \n"
          ]
        }
      ]
    },
    {
      "cell_type": "code",
      "source": [
        "#IMC 2\n",
        "\n",
        "\n",
        "peso = float(input('Digite o peso : '))\n",
        "altura = float(input('Digite a altura : '))\n",
        "\n",
        "imc = peso / altura **2\n",
        "\n",
        "if(imc < 18.5):\n",
        " print('Abaixo do peso')\n",
        "\n",
        "elif(imc <= 24.9):\n",
        " print('Peso normal')\n",
        "\n",
        "elif(imc <= 29.9):\n",
        " print('Excesso de peso')\n",
        "\n",
        "elif (imc <= 34.9):\n",
        " print('Obessidade classe 1')\n",
        "\n",
        "elif(imc <= 39.9):\n",
        " print('Obesidade classe 2')\n",
        "\n",
        "elif(imc <= 50):\n",
        " print('Obesidade classe 3')\n",
        "\n",
        "else:\n",
        " print('Obesidade classe 4')\n",
        "\n",
        "\n",
        "\n"
      ],
      "metadata": {
        "colab": {
          "base_uri": "https://localhost:8080/"
        },
        "id": "DQzZwlo21hz0",
        "outputId": "81f8f59c-c624-4590-a2c3-0c067138c565"
      },
      "execution_count": null,
      "outputs": [
        {
          "output_type": "stream",
          "name": "stdout",
          "text": [
            "Digite o peso : 56.44\n",
            "Digite a altura : 1.90\n",
            "Abaixo do peso\n"
          ]
        }
      ]
    }
  ]
}